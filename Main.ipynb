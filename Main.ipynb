{
  "cells": [
    {
      "cell_type": "markdown",
      "metadata": {
        "id": "V8rLeJMcGHv5"
      },
      "source": [
        "#Pre made API form\n",
        "rapidAPI: https://rapidapi.com/LukeDevelops/api/ai-content-identifier2/playground/apiendpoint_68656d8e-1dc6-42b0-b207-8e5493f90a2f\n",
        "\n",
        "HuggingFace Space: https://eeshaharshad-aichecker.hf.space\n",
        "\n",
        "\n",
        "\n",
        "\n"
      ]
    },
    {
      "cell_type": "markdown",
      "source": [
        "Installing Important Libraries"
      ],
      "metadata": {
        "id": "V6RBmzZJZlBJ"
      }
    },
    {
      "cell_type": "code",
      "execution_count": null,
      "metadata": {
        "id": "MqI45XjtEJxR"
      },
      "outputs": [],
      "source": [
        "!pip install fastapi nest-asyncio pyngrok uvicorn\n",
        "!ngrok config add-authtoken 2fNQ7AEiwJ6tGGOxYyReXF9rFKu_6Pmy7vMkJCuNYQiesnH8S\n",
        "!pip install python-multipart\n",
        "!pip install langsmith\n",
        "!pip install langchain-community\n",
        "!pip install pypdf\n",
        "!pip install langchain fastapi\n",
        "!pip install -U Langsmith\n",
        "!pip install \"unstructured[docx]\""
      ]
    },
    {
      "cell_type": "markdown",
      "metadata": {
        "id": "jeFhXmnjHoBU"
      },
      "source": [
        "Importing Necessary Libraries"
      ]
    },
    {
      "cell_type": "code",
      "execution_count": 2,
      "metadata": {
        "id": "YFVkQU8BFHbW"
      },
      "outputs": [],
      "source": [
        "import os\n",
        "import tempfile\n",
        "import fastapi\n",
        "import uvicorn\n",
        "import requests\n",
        "import pandas\n",
        "import langchain\n",
        "import langsmith as ls\n",
        "import nest_asyncio\n",
        "from pyngrok import ngrok\n",
        "from fastapi import FastAPI, Request, Form\n",
        "from fastapi.responses import JSONResponse\n",
        "from fastapi import FastAPI, File, UploadFile, HTTPException\n",
        "from langchain_community.document_loaders import PyPDFLoader\n",
        "from langchain.document_loaders import UnstructuredFileLoader\n",
        "from langchain_core.tracers.context import tracing_v2_enabled\n",
        "from langsmith import traceable"
      ]
    },
    {
      "cell_type": "markdown",
      "metadata": {
        "id": "AMcfydMUmR3q"
      },
      "source": [
        "Setting up Monitoring Environment"
      ]
    },
    {
      "cell_type": "code",
      "execution_count": 3,
      "metadata": {
        "id": "hJIWal47yxNK"
      },
      "outputs": [],
      "source": [
        "os.environ[\"LANGCHAIN_TRACING_V2\"] = \"true\"\n",
        "os.environ[\"LANGCHAIN_PROJECT\"] = f\"AiChecker\"\n",
        "os.environ[\"LANGCHAIN_ENDPOINT\"] = \"https://api.smith.langchain.com\"\n",
        "os.environ[\"LANGCHAIN_API_KEY\"] = \"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\""
      ]
    },
    {
      "cell_type": "markdown",
      "metadata": {
        "id": "rOQorCNfmk5W"
      },
      "source": [
        "Main Code Body"
      ]
    },
    {
      "cell_type": "code",
      "execution_count": 4,
      "metadata": {
        "colab": {
          "base_uri": "https://localhost:8080/"
        },
        "id": "uylFHDvZAg3c",
        "outputId": "46aefb98-5c83-447e-b9b0-481ab7d28e36"
      },
      "outputs": [
        {
          "output_type": "stream",
          "name": "stderr",
          "text": [
            "INFO:     Started server process [456]\n",
            "INFO:     Waiting for application startup.\n",
            "INFO:     Application startup complete.\n",
            "INFO:     Uvicorn running on http://127.0.0.1:8000 (Press CTRL+C to quit)\n"
          ]
        },
        {
          "output_type": "stream",
          "name": "stdout",
          "text": [
            "Public URL: https://469e-34-106-89-170.ngrok-free.app\n",
            "INFO:     111.68.99.94:0 - \"GET / HTTP/1.1\" 200 OK\n",
            "INFO:     111.68.99.94:0 - \"GET /favicon.ico HTTP/1.1\" 404 Not Found\n",
            "INFO:     111.68.99.94:0 - \"GET /docs HTTP/1.1\" 200 OK\n",
            "INFO:     111.68.99.94:0 - \"GET /openapi.json HTTP/1.1\" 200 OK\n",
            "['__abstractmethods__', '__annotations__', '__class__', '__class_getitem__', '__class_vars__', '__copy__', '__deepcopy__', '__delattr__', '__dict__', '__dir__', '__doc__', '__eq__', '__fields__', '__fields_set__', '__format__', '__ge__', '__get_pydantic_core_schema__', '__get_pydantic_json_schema__', '__getattr__', '__getattribute__', '__getstate__', '__gt__', '__hash__', '__init__', '__init_subclass__', '__iter__', '__le__', '__lt__', '__module__', '__ne__', '__new__', '__pretty__', '__private_attributes__', '__pydantic_complete__', '__pydantic_core_schema__', '__pydantic_custom_init__', '__pydantic_decorators__', '__pydantic_extra__', '__pydantic_fields_set__', '__pydantic_generic_metadata__', '__pydantic_init_subclass__', '__pydantic_parent_namespace__', '__pydantic_post_init__', '__pydantic_private__', '__pydantic_root_model__', '__pydantic_serializer__', '__pydantic_validator__', '__reduce__', '__reduce_ex__', '__repr__', '__repr_args__', '__repr_name__', '__repr_str__', '__rich_repr__', '__setattr__', '__setstate__', '__signature__', '__sizeof__', '__slots__', '__str__', '__subclasshook__', '__weakref__', '_abc_impl', '_calculate_keys', '_check_frozen', '_copy_and_set_values', '_get_value', '_iter', 'cast_id_to_str', 'construct', 'copy', 'dict', 'from_orm', 'get_lc_namespace', 'id', 'is_lc_serializable', 'json', 'lc_attributes', 'lc_id', 'lc_secrets', 'metadata', 'model_computed_fields', 'model_config', 'model_construct', 'model_copy', 'model_dump', 'model_dump_json', 'model_extra', 'model_fields', 'model_fields_set', 'model_json_schema', 'model_parametrized_name', 'model_post_init', 'model_rebuild', 'model_validate', 'model_validate_json', 'model_validate_strings', 'page_content', 'parse_file', 'parse_obj', 'parse_raw', 'schema', 'schema_json', 'to_json', 'to_json_not_implemented', 'type', 'update_forward_refs', 'validate']\n",
            "INFO:     111.68.99.94:0 - \"POST /uploadFile/ HTTP/1.1\" 200 OK\n"
          ]
        },
        {
          "output_type": "stream",
          "name": "stderr",
          "text": [
            "INFO:     Shutting down\n",
            "INFO:     Waiting for application shutdown.\n",
            "INFO:     Application shutdown complete.\n",
            "INFO:     Finished server process [456]\n"
          ]
        }
      ],
      "source": [
        "app = FastAPI()\n",
        "\n",
        "# API key and host\n",
        "API_KEY = \"c22f916d7emsh84b9036bb10a1b9p1f1cecjsne5deda81b82a\"\n",
        "API_HOST = \"ai-content-identifier2.p.rapidapi.com\"\n",
        "\n",
        "#using traceable decorator for langsmith tracing\n",
        "@ls.traceable\n",
        "# Code for Text AI Detection endpoint\n",
        "def text_check(user_input):\n",
        "    url = \"https://ai-content-identifier2.p.rapidapi.com/text\"\n",
        "    payload = {\n",
        "        \"text\": user_input,\n",
        "        \"threshold\": 10  # Adjust this if needed to test different sensitivity levels\n",
        "    }\n",
        "    headers = {\n",
        "        \"x-rapidapi-key\": API_KEY,\n",
        "        \"x-rapidapi-host\": API_HOST,\n",
        "        \"Content-Type\": \"application/json\"\n",
        "    }\n",
        "    response = requests.post(url, json=payload, headers=headers)\n",
        "    return response.json()\n",
        "\n",
        "\n",
        "@app.get('/')\n",
        "async def home():\n",
        "    return \"Hello! Welcome to Eshah's Final Project\"\n",
        "\n",
        "@ls.traceable\n",
        "@app.post(\"/uploadFile/\")\n",
        "async def create_upload_files(file: UploadFile = File(...)):\n",
        "    suffix = os.path.splitext(file.filename)[1].lower()\n",
        "    temp_file_path = tempfile.mktemp(suffix=suffix)\n",
        "    with open(temp_file_path, 'wb') as f:\n",
        "        f.write(await file.read())\n",
        "\n",
        "    try:\n",
        "        if suffix == '.pdf':\n",
        "            loader = PyPDFLoader(temp_file_path)\n",
        "            document = loader.load_and_split()\n",
        "            print(dir(document[0])) if document else print(\"No document loaded\") ## Debugging\n",
        "            text_content = \" \".join([str(page) for page in document])\n",
        "        elif suffix == '.docx':\n",
        "            loader = UnstructuredFileLoader(temp_file_path)\n",
        "            document = loader.load()\n",
        "            print(dir(document)) if document else print(\"No document loaded\") ## Debugging output\n",
        "            text_content = str(document)\n",
        "        else:\n",
        "            return JSONResponse(status_code=400, content={\"message\": \"Unsupported file type\"})\n",
        "        result = text_check(text_content) # Sending the text to text checker API\n",
        "        return JSONResponse(content=result)\n",
        "    except Exception as e:\n",
        "        return JSONResponse(status_code=500, content={\"message\": str(e)})\n",
        "    finally:\n",
        "        os.remove(temp_file_path)  # clean-up\n",
        "\n",
        "\n",
        "if __name__ == \"__main__\":\n",
        "    ngrok_tunnel = ngrok.connect(8000)\n",
        "    print('Public URL:', ngrok_tunnel.public_url)\n",
        "    nest_asyncio.apply()\n",
        "    uvicorn.run(app, port=8000)"
      ]
    }
  ],
  "metadata": {
    "colab": {
      "provenance": []
    },
    "kernelspec": {
      "display_name": "Python 3",
      "name": "python3"
    },
    "language_info": {
      "name": "python"
    }
  },
  "nbformat": 4,
  "nbformat_minor": 0
}